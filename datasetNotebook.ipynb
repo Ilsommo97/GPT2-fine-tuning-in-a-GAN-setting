{
 "cells": [
  {
   "cell_type": "code",
   "execution_count": 1,
   "metadata": {},
   "outputs": [
    {
     "name": "stderr",
     "output_type": "stream",
     "text": [
      "/usr/local/lib/python3.7/site-packages/tqdm/auto.py:21: TqdmWarning: IProgress not found. Please update jupyter and ipywidgets. See https://ipywidgets.readthedocs.io/en/stable/user_install.html\n",
      "  from .autonotebook import tqdm as notebook_tqdm\n"
     ]
    }
   ],
   "source": [
    "from Dataset import GutenbergDataset"
   ]
  },
  {
   "cell_type": "code",
   "execution_count": 2,
   "metadata": {},
   "outputs": [],
   "source": [
    "dataset = GutenbergDataset()"
   ]
  },
  {
   "cell_type": "code",
   "execution_count": 9,
   "metadata": {},
   "outputs": [],
   "source": [
    "x = dataset.__getitem__(252)"
   ]
  },
  {
   "cell_type": "code",
   "execution_count": 15,
   "metadata": {},
   "outputs": [
    {
     "name": "stdout",
     "output_type": "stream",
     "text": [
      "{'input_ids': tensor([[ 2990,   547,   257,  1641,   286,   262,  1438,   198,  1659,  5780,\n",
      "            11,  4150, 18966,   880,  2993,   416,  2095,    11,   355, 34245]]), 'attention_mask': tensor([[1, 1, 1, 1, 1, 1, 1, 1, 1, 1, 1, 1, 1, 1, 1, 1, 1, 1, 1, 1]])}\n"
     ]
    }
   ],
   "source": [
    "print(x[0])"
   ]
  },
  {
   "cell_type": "code",
   "execution_count": 17,
   "metadata": {},
   "outputs": [],
   "source": [
    "from Generator import GANGenerator\n",
    "from torch.utils.data import DataLoader\n",
    "gen = GANGenerator()\n",
    "dataloader = DataLoader(dataset, 4, True)"
   ]
  },
  {
   "cell_type": "code",
   "execution_count": 36,
   "metadata": {},
   "outputs": [
    {
     "name": "stderr",
     "output_type": "stream",
     "text": [
      "/Users/salvatore/GAN/Dataset.py:60: UserWarning: To copy construct from a tensor, it is recommended to use sourceTensor.clone().detach() or sourceTensor.clone().detach().requires_grad_(True), rather than torch.tensor(sourceTensor).\n",
      "  concat_input = torch.tensor(concat_input, dtype=torch.long)\n",
      "A decoder-only architecture is being used, but right-padding was detected! For correct generation results, please set `padding_side='left'` when initializing the tokenizer.\n"
     ]
    },
    {
     "name": "stdout",
     "output_type": "stream",
     "text": [
      "torch.Size([4, 21])\n"
     ]
    }
   ],
   "source": [
    "for (batch,real) in dataloader:\n",
    "    \n",
    "  \n",
    "    batch[\"input_ids\"] = batch[\"input_ids\"].squeeze(1)\n",
    "    batch[\"attention_mask\"] = batch[\"attention_mask\"].squeeze(1)\n",
    "    \n",
    "    out = gen.generateText(batch, 21)\n",
    "    for tokens in out:\n",
    "        \n",
    "    "
   ]
  },
  {
   "cell_type": "code",
   "execution_count": 13,
   "metadata": {},
   "outputs": [
    {
     "data": {
      "text/plain": [
       "tensor([[ 2990,   547,   257,  1641,   286,   262,  1438,   198,  1659,  5780,\n",
       "            11,  4150, 18966,   880,  2993,   416,  2095,    11,   355, 34245,\n",
       "           257,  2156,   655,  2354,  2669,    11,   360,    13,    34,    13]])"
      ]
     },
     "execution_count": 13,
     "metadata": {},
     "output_type": "execute_result"
    }
   ],
   "source": [
    "gen.generateText(x[0], 30)"
   ]
  },
  {
   "cell_type": "code",
   "execution_count": 5,
   "metadata": {},
   "outputs": [
    {
     "data": {
      "text/plain": [
       "'She dearly loved her father, but he\\nwas no companion for her.<|endoftext|><|endoftext|><|endoftext|><|endoftext|><|endoftext|>'"
      ]
     },
     "execution_count": 5,
     "metadata": {},
     "output_type": "execute_result"
    }
   ],
   "source": [
    "dataset.decode(x[\"input_ids\"][0])"
   ]
  },
  {
   "cell_type": "code",
   "execution_count": 6,
   "metadata": {},
   "outputs": [],
   "source": [
    "from torch.utils.data import DataLoader"
   ]
  },
  {
   "cell_type": "code",
   "execution_count": 11,
   "metadata": {},
   "outputs": [],
   "source": [
    "dataloader = DataLoader(dataset, 2, True)"
   ]
  },
  {
   "cell_type": "code",
   "execution_count": 13,
   "metadata": {},
   "outputs": [
    {
     "name": "stdout",
     "output_type": "stream",
     "text": [
      "{'input_ids': tensor([[[1.9290e+03, 2.7100e+02, 1.3653e+04, 5.3350e+03, 1.9800e+02,\n",
      "          5.4800e+02, 2.7090e+03, 3.1930e+03, 1.3000e+01, 5.0256e+04,\n",
      "          5.0256e+04, 5.0256e+04, 5.0256e+04, 5.0256e+04, 5.0256e+04,\n",
      "          5.0256e+04, 5.0256e+04, 5.0256e+04, 5.0256e+04, 5.0256e+04]],\n",
      "\n",
      "        [[2.0219e+04, 2.5000e+01, 1.5580e+03, 1.3740e+03, 1.4186e+04,\n",
      "          6.3500e+02, 3.8900e+02, 1.1906e+04, 6.0660e+03, 1.2722e+04,\n",
      "          5.0200e+02, 1.1000e+01, 4.4000e+02, 1.7930e+03, 0.0000e+00,\n",
      "          5.0256e+04, 5.0256e+04, 5.0256e+04, 5.0256e+04, 5.0256e+04]]]), 'attention_mask': tensor([[[1., 1., 1., 1., 1., 1., 1., 1., 1., 0., 0., 0., 0., 0., 0., 0., 0.,\n",
      "          0., 0., 0.]],\n",
      "\n",
      "        [[1., 1., 1., 1., 1., 1., 1., 1., 1., 1., 1., 1., 1., 1., 1., 0., 0.,\n",
      "          0., 0., 0.]]]), 'real': ['whispered Mary\\nvery audibly.', '139:17 How precious also are thy thoughts unto me, O God!']}\n"
     ]
    }
   ],
   "source": [
    "for batch in dataloader:\n",
    "    # BATCH is a dictionary containing inputids, attentionmask and real, the last one is a list whereas the first 2s\n",
    "    # \n",
    "    break"
   ]
  },
  {
   "cell_type": "code",
   "execution_count": null,
   "metadata": {},
   "outputs": [],
   "source": []
  }
 ],
 "metadata": {
  "kernelspec": {
   "display_name": "Python 3",
   "language": "python",
   "name": "python3"
  },
  "language_info": {
   "codemirror_mode": {
    "name": "ipython",
    "version": 3
   },
   "file_extension": ".py",
   "mimetype": "text/x-python",
   "name": "python",
   "nbconvert_exporter": "python",
   "pygments_lexer": "ipython3",
   "version": "3.7.4"
  }
 },
 "nbformat": 4,
 "nbformat_minor": 2
}
